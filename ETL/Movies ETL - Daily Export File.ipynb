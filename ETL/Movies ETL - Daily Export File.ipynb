{
 "cells": [
  {
   "cell_type": "code",
   "execution_count": 1,
   "id": "3af8e25d",
   "metadata": {},
   "outputs": [],
   "source": [
    "from DailyExport import DailyExport\n",
    "import os\n",
    "import os.path\n",
    "from datetime import datetime"
   ]
  },
  {
   "cell_type": "code",
   "execution_count": 2,
   "id": "a4985239",
   "metadata": {},
   "outputs": [],
   "source": [
    "curr_month = datetime.strftime(datetime.today(), r'%m')\n",
    "curr_day = datetime.strftime(datetime.today(), r'%d')\n",
    "curr_year = datetime.strftime(datetime.today(), r'%Y')"
   ]
  },
  {
   "cell_type": "code",
   "execution_count": 3,
   "id": "51f2b168",
   "metadata": {},
   "outputs": [],
   "source": [
    "filename = f'movie_ids_{curr_month}_{curr_day}_{curr_year}.json'\n",
    "file_url = f'http://files.tmdb.org/p/exports/{filename}.gz'\n",
    "final_directory = os.path.join('..', 'files', f'{curr_month}_{curr_day}_{curr_year}')"
   ]
  },
  {
   "cell_type": "code",
   "execution_count": 10,
   "id": "634ba170",
   "metadata": {},
   "outputs": [],
   "source": [
    "export = DailyExport(filename, file_url, final_directory)"
   ]
  },
  {
   "cell_type": "code",
   "execution_count": 11,
   "id": "886afe4e",
   "metadata": {},
   "outputs": [],
   "source": [
    "export.main()"
   ]
  }
 ],
 "metadata": {
  "kernelspec": {
   "display_name": "Python 3 (ipykernel)",
   "language": "python",
   "name": "python3"
  },
  "language_info": {
   "codemirror_mode": {
    "name": "ipython",
    "version": 3
   },
   "file_extension": ".py",
   "mimetype": "text/x-python",
   "name": "python",
   "nbconvert_exporter": "python",
   "pygments_lexer": "ipython3",
   "version": "3.10.2"
  }
 },
 "nbformat": 4,
 "nbformat_minor": 5
}
