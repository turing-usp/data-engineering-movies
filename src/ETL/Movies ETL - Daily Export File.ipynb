{
 "cells": [
  {
   "cell_type": "code",
   "execution_count": 6,
   "id": "d43fa619",
   "metadata": {},
   "outputs": [],
   "source": [
    "from DailyExport import DailyExport\n",
    "import os\n",
    "import os.path\n",
    "from datetime import datetime"
   ]
  },
  {
   "cell_type": "code",
   "execution_count": 7,
   "id": "95f0daf7",
   "metadata": {},
   "outputs": [],
   "source": [
    "curr_month = datetime.strftime(datetime.today(), r'%m')\n",
    "curr_day = datetime.strftime(datetime.today(), r'%d')\n",
    "curr_year = datetime.strftime(datetime.today(), r'%Y')"
   ]
  },
  {
   "cell_type": "code",
   "execution_count": 8,
   "id": "4c2cf62b",
   "metadata": {},
   "outputs": [],
   "source": [
    "filename = f'movie_ids_{curr_month}_{curr_day}_{curr_year}.json'\n",
    "file_url = f'http://files.tmdb.org/p/exports/{filename}.gz'\n",
    "final_directory = os.path.join('..', '..', 'files', f'{curr_month}_{curr_day}_{curr_year}')"
   ]
  },
  {
   "cell_type": "code",
   "execution_count": 9,
   "id": "1886b7d8",
   "metadata": {},
   "outputs": [],
   "source": [
    "export = DailyExport(filename, file_url, final_directory)"
   ]
  },
  {
   "cell_type": "code",
   "execution_count": 10,
   "id": "4c8b79c5",
   "metadata": {},
   "outputs": [],
   "source": [
    "export.main()"
   ]
  }
 ],
 "metadata": {
  "kernelspec": {
   "display_name": "Python 3 (ipykernel)",
   "language": "python",
   "name": "python3"
  },
  "language_info": {
   "codemirror_mode": {
    "name": "ipython",
    "version": 3
   },
   "file_extension": ".py",
   "mimetype": "text/x-python",
   "name": "python",
   "nbconvert_exporter": "python",
   "pygments_lexer": "ipython3",
   "version": "3.10.2"
  },
  "vscode": {
   "interpreter": {
    "hash": "a9c197218a46cf1e3f620ab6b98cfe1954113fc12a9d05a24b28bb3cbaf07f2e"
   }
  }
 },
 "nbformat": 4,
 "nbformat_minor": 5
}
