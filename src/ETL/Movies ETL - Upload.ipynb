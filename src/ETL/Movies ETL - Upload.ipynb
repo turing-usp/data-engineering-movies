{
 "cells": [
  {
   "cell_type": "code",
   "execution_count": 1,
   "id": "1127d38c",
   "metadata": {},
   "outputs": [],
   "source": [
    "from ExtractDataTMDB import ExtractDataTMDB\n",
    "from Upload import Upload"
   ]
  },
  {
   "cell_type": "code",
   "execution_count": 2,
   "id": "87ed49b1",
   "metadata": {},
   "outputs": [],
   "source": [
    "import os"
   ]
  },
  {
   "cell_type": "code",
   "execution_count": 3,
   "id": "6ec1db0c",
   "metadata": {},
   "outputs": [],
   "source": [
    "os.environ['PROJECT_ID'] = 'turingdb'\n",
    "os.environ['GOOGLE_APPLICATION_CREDENTIALS'] = r'C:\\Users\\davif\\Documents\\USP\\Turing\\turingdb-f911c3126edd.json'"
   ]
  },
  {
   "cell_type": "code",
   "execution_count": 4,
   "id": "572c7ea2",
   "metadata": {},
   "outputs": [],
   "source": [
    "movie_details = [\n",
    "    'imdb_id', \n",
    "    'status', \n",
    "    'revenue', \n",
    "    'budget',\n",
    "    {'fieldName': 'belongs_to_collection', 'finalName': 'collection', 'func': lambda x: x['name'] if x else None},\n",
    "    {'fieldName': 'production_companies', 'finalName': 'productions', 'func': lambda prod: [x['name'] for x in prod]}\n",
    "]"
   ]
  },
  {
   "cell_type": "code",
   "execution_count": 5,
   "id": "6930c707",
   "metadata": {},
   "outputs": [],
   "source": [
    "extract_movies = ExtractDataTMDB(movie_details, 'movie')"
   ]
  },
  {
   "cell_type": "code",
   "execution_count": 6,
   "id": "07641faa",
   "metadata": {},
   "outputs": [],
   "source": [
    "trending_movies = extract_movies.get_route('/trending/:t/week',initial_page=7, final_page=7, route_name='trending_week')"
   ]
  },
  {
   "cell_type": "code",
   "execution_count": 7,
   "id": "6bd2fd86",
   "metadata": {},
   "outputs": [],
   "source": [
    "bq_upload = Upload(trending_movies)"
   ]
  },
  {
   "cell_type": "code",
   "execution_count": 8,
   "id": "05017c4c",
   "metadata": {},
   "outputs": [
    {
     "name": "stdout",
     "output_type": "stream",
     "text": [
      "Loaded 160 rows and 19 columns to turingdb.data_warehouse.movies\n"
     ]
    }
   ],
   "source": [
    "bq_upload.upload()"
   ]
  }
 ],
 "metadata": {
  "kernelspec": {
   "display_name": "Python 3 (ipykernel)",
   "language": "python",
   "name": "python3"
  },
  "language_info": {
   "codemirror_mode": {
    "name": "ipython",
    "version": 3
   },
   "file_extension": ".py",
   "mimetype": "text/x-python",
   "name": "python",
   "nbconvert_exporter": "python",
   "pygments_lexer": "ipython3",
   "version": "3.10.2"
  }
 },
 "nbformat": 4,
 "nbformat_minor": 5
}
