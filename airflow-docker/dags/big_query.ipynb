{
 "cells": [
  {
   "cell_type": "code",
   "execution_count": 1,
   "metadata": {},
   "outputs": [],
   "source": [
    "# !pip install --upgrade google-cloud-bigquery\n",
    "# !pip install pyarrow\n",
    "# !pip install pandas-gbq"
   ]
  },
  {
   "cell_type": "code",
   "execution_count": 1,
   "metadata": {},
   "outputs": [
    {
     "data": {
      "text/html": [
       "<pre style=\"white-space:pre;overflow-x:auto;line-height:normal;font-family:Menlo,'DejaVu Sans Mono',consolas,'Courier New',monospace\"><span style=\"color: #808000; text-decoration-color: #808000; font-weight: bold\">/Users/hugo/opt/anaconda3/lib/python3.9/site-packages/airflow/models/base.py:</span><span style=\"color: #808000; text-decoration-color: #808000; font-weight: bold\">49</span><span style=\"color: #808000; text-decoration-color: #808000; font-weight: bold\"> MovedIn20Warning</span><span style=\"color: #808000; text-decoration-color: #808000\">: Deprecated API features detected! These </span><span style=\"color: #808000; text-decoration-color: #808000; font-weight: bold\">feature(</span><span style=\"color: #808000; text-decoration-color: #808000\">s</span><span style=\"color: #808000; text-decoration-color: #808000; font-weight: bold\">)</span><span style=\"color: #808000; text-decoration-color: #808000\"> are not compatible with SQLAlchemy </span><span style=\"color: #808000; text-decoration-color: #808000; font-weight: bold\">2.0</span><span style=\"color: #808000; text-decoration-color: #808000\">. To prevent incompatible upgrades prior to updating applications, ensure requirements files are pinned to </span><span style=\"color: #808000; text-decoration-color: #808000\">\"sqlalchemy&lt;2.0\"</span><span style=\"color: #808000; text-decoration-color: #808000\">. Set environment variable </span><span style=\"color: #808000; text-decoration-color: #808000\">SQLALCHEMY_WARN_20</span><span style=\"color: #808000; text-decoration-color: #808000\">=</span><span style=\"color: #808000; text-decoration-color: #808000; font-weight: bold\">1</span><span style=\"color: #808000; text-decoration-color: #808000\"> to show all deprecation warnings.  Set environment variable </span><span style=\"color: #808000; text-decoration-color: #808000\">SQLALCHEMY_SILENCE_UBER_WARNING</span><span style=\"color: #808000; text-decoration-color: #808000\">=</span><span style=\"color: #808000; text-decoration-color: #808000; font-weight: bold\">1</span><span style=\"color: #808000; text-decoration-color: #808000\"> to silence this message. </span><span style=\"color: #808000; text-decoration-color: #808000; font-weight: bold\">(</span><span style=\"color: #808000; text-decoration-color: #808000\">Background on SQLAlchemy </span><span style=\"color: #808000; text-decoration-color: #808000; font-weight: bold\">2.0</span><span style=\"color: #808000; text-decoration-color: #808000\"> at: </span><span style=\"color: #808000; text-decoration-color: #808000; text-decoration: underline\">https://sqlalche.me/e/b8d9)</span>\n",
       "</pre>\n"
      ],
      "text/plain": [
       "\u001b[1;33m/Users/hugo/opt/anaconda3/lib/python3.9/site-packages/airflow/models/\u001b[0m\u001b[1;33mbase.py\u001b[0m\u001b[1;33m:\u001b[0m\u001b[1;33m49\u001b[0m\u001b[1;33m MovedIn20Warning\u001b[0m\u001b[33m: Deprecated API features detected! These \u001b[0m\u001b[1;33mfeature\u001b[0m\u001b[1;33m(\u001b[0m\u001b[33ms\u001b[0m\u001b[1;33m)\u001b[0m\u001b[33m are not compatible with SQLAlchemy \u001b[0m\u001b[1;33m2.0\u001b[0m\u001b[33m. To prevent incompatible upgrades prior to updating applications, ensure requirements files are pinned to \u001b[0m\u001b[33m\"sqlalchemy<2.0\"\u001b[0m\u001b[33m. Set environment variable \u001b[0m\u001b[33mSQLALCHEMY_WARN_20\u001b[0m\u001b[33m=\u001b[0m\u001b[1;33m1\u001b[0m\u001b[33m to show all deprecation warnings.  Set environment variable \u001b[0m\u001b[33mSQLALCHEMY_SILENCE_UBER_WARNING\u001b[0m\u001b[33m=\u001b[0m\u001b[1;33m1\u001b[0m\u001b[33m to silence this message. \u001b[0m\u001b[1;33m(\u001b[0m\u001b[33mBackground on SQLAlchemy \u001b[0m\u001b[1;33m2.0\u001b[0m\u001b[33m at: \u001b[0m\u001b[4;33mhttps://sqlalche.me/e/b8d9\u001b[0m\u001b[4;33m)\u001b[0m\n"
      ]
     },
     "metadata": {},
     "output_type": "display_data"
    }
   ],
   "source": [
    "# import google\n",
    "from google.cloud import bigquery\n",
    "from google.oauth2 import service_account\n",
    "from airflow.models import Variable\n",
    "\n",
    "import pandas as pd\n",
    "from bs4 import BeautifulSoup\n",
    "import requests\n",
    "import re\n",
    "import numpy as np"
   ]
  },
  {
   "cell_type": "code",
   "execution_count": 2,
   "metadata": {},
   "outputs": [],
   "source": [
    "credentials = service_account.Credentials.from_service_account_file(\n",
    "    filename='dags/data/credentials.json',\n",
    "    scopes = [\"https://www.googleapis.com/auth/cloud-platform\"]\n",
    ")"
   ]
  },
  {
   "cell_type": "code",
   "execution_count": 3,
   "metadata": {},
   "outputs": [],
   "source": [
    "# FUNCTIONS\n",
    "def find_text(element):\n",
    "  # Looking for text nested\n",
    "  text = ''\n",
    "  for tag in element.children:\n",
    "    text += clean_string(str(tag.string))\n",
    "  return text\n",
    "\n",
    "def clean_string(text):\n",
    "  # Removes spaces and replacing non-breaking spaces (\\xa0)\n",
    "  return re.sub(r'(?<!\\w)\\s(?!\\w)|\\n', '', text.replace(u'\\xa0', ' '))\n",
    "\n",
    "def scrape_rotten(url):\n",
    "  res = requests.get(url)\n",
    "  \n",
    "  if res.ok:\n",
    "    soup = BeautifulSoup(res.text, 'html.parser')\n",
    "\n",
    "    score_board = soup.find('score-board')\n",
    "    tomatometer = score_board['tomatometerscore']\n",
    "    audience = score_board['audiencescore']\n",
    "    tomatometer_reviews, audience_reviews = [int(re.sub(r'[^0-9]', '', tag.string) or 0) for tag in score_board.find_all('a')]\n",
    "    \n",
    "    movie_info_data = soup.find('section', {'id': 'movie-info'}).find_all('li')\n",
    "    movie_info = {clean_string(str(tag.find('b').string[:-1])): find_text(tag.find('span')) for tag in movie_info_data}\n",
    "    movie_info.update({\n",
    "      'tomattometer_score': tomatometer, \n",
    "      'audience_score': audience, \n",
    "      'tomattometer_reviews': tomatometer_reviews, \n",
    "      'audience_reviews': audience_reviews\n",
    "    })\n",
    "\n",
    "    return movie_info\n",
    "  \n",
    "  return {}\n",
    "\n",
    "def rottenize(title):\n",
    "        reaplace_dict = {':': '', \"'\": '', \".\":\"\", \",\":\"\", \"-\":\"_\", \" \":\"_\"}\n",
    "        return title.translate(str.maketrans(reaplace_dict)).lower()\n",
    "\n",
    "def get_rotten_data(movie_titles, ids, keys):\n",
    "  data = []\n",
    "  for tmdb_id, title in zip(ids, movie_titles):\n",
    "    url = f'https://www.rottentomatoes.com/m/{rottenize(title)}'\n",
    "    try:\n",
    "      rotten_data = scrape_rotten(url)\n",
    "    except:\n",
    "      continue\n",
    "    if rotten_data:\n",
    "      final_dict = dict.fromkeys(keys)\n",
    "      final_dict['tmdb_id'] = tmdb_id\n",
    "      final_dict['original_title'] = title\n",
    "      final_dict.update(rotten_data)\n",
    "      # Tratando o Box Office\n",
    "      if 'Box Office (Gross USA)' in final_dict.keys():\n",
    "        K = 1000\n",
    "        M = 1000000\n",
    "        original_box_office = final_dict['Box Office (Gross USA)']\n",
    "        if original_box_office:\n",
    "          box_office = float(re.sub(r'[^0-9\\.]', '', str(original_box_office)))\n",
    "          final_dict['Box Office (Gross USA)'] = box_office * K if original_box_office[-1] == 'K' else box_office * M\n",
    "        else:\n",
    "          final_dict['Box Office (Gross USA)'] = np.nan\n",
    "\n",
    "      data.append(final_dict)\n",
    "  return data\n",
    "\n",
    "def get_rotten_dataframe(movies_dataframe):\n",
    "  \"\"\"recebe um dataframe com os filmes\"\"\"\n",
    "  keys = ['tmdb_id', 'original_title', 'Box Office (Gross USA)', \n",
    "          'Release Date (Theaters)', 'Release Date (Streaming)', 'tomattometer_score', \n",
    "          'audience_score', 'tomatometer_reviews', 'audience_reviews', \n",
    "          'Distributor', 'Aspect Ratio', 'Runtime', \n",
    "          'Writer', 'Original Language', 'Rating', \n",
    "          'Director', 'Genre', 'Producer', \n",
    "          'Sound Mix', 'Aspect Ratio']\n",
    "  data = get_rotten_data(movies_dataframe['original_title'], movies_dataframe['id'], keys)\n",
    "  df_out = pd.DataFrame.from_dict(data).set_index('tmdb_id')\n",
    "  df_out = df_out.reset_index().astype(str)\n",
    "  # rename the columns to match the table schema\n",
    "  df_out.columns = [\n",
    "          'tmdb_id', 'original_title', 'Box Office',\n",
    "        'Release Date Theaters', 'Release Date Streaming', 'tomattometer_score', \n",
    "        'audience_score', 'tomatometer_reviews', 'audience_reviews', \n",
    "        'Distributor', 'Aspect Ratio', 'Runtime', \n",
    "        'Writer', 'Original Language', 'Rating', \n",
    "        'Director', 'Genre', 'Producer',\n",
    "        'Sound Mix', 'tomattometer_reviews', 'Production Co'\n",
    "  ]\n",
    "  \n",
    "  return df_out\n",
    "\n",
    "def get_bigquery_tmdb_df(begin_date, end_date):\n",
    "    \"\"\"this function gets the tmdb_id and original_title \n",
    "    from the discover table in bigquery\"\"\"\n",
    "\n",
    "    # credentials = service_account.Credentials.from_service_account_file(\n",
    "    #     filename=Variable.get('credentials_path'),\n",
    "    #     scopes = [\"https://www.googleapis.com/auth/cloud-platform\"]\n",
    "    # )\n",
    "\n",
    "    # Construct a BigQuery client object.\n",
    "    client = bigquery.Client(credentials= credentials)\n",
    "\n",
    "    query = \"\"\"\n",
    "        SELECT id, original_title FROM `turingdb.data_warehouse.discover` \n",
    "        where release_date between '{}' and '{}' limit 100;\n",
    "    \"\"\".format(begin_date, end_date)\n",
    "    query_job = client.query(query)  # Make an API request.\n",
    "\n",
    "    print(\"The query data:\")\n",
    "\n",
    "    tmdb_id = []\n",
    "    original_titles = []\n",
    "    for row in query_job:\n",
    "        # Row values can be accessed by field name or index.\n",
    "        # store the data in the lists\n",
    "        tmdb_id.append(row[0])\n",
    "        original_titles.append(row[1])\n",
    "\n",
    "    df = pd.DataFrame(list(zip(tmdb_id, original_titles)), columns =['id', 'original_title'])\n",
    "    return df\n",
    "\n",
    "# insert the data into the bigquery table using insert into\n",
    "def insert_into_bigquery(df_rotten):\n",
    "    \"\"\"this function inserts the data into the bigquery table\"\"\"\n",
    "    client = bigquery.Client()\n",
    "    table_id = \"turingdb.data_warehouse.rotten_tomatoes\"\n",
    "\n",
    "    job = client.load_table_from_dataframe(\n",
    "        df_rotten, \n",
    "        table_id\n",
    "        # , job_config=job_config    ### Uncomment to create the table for the first time\n",
    "    )  # Make an API request.\n",
    "\n",
    "    job.result()  # Wait for the job to complete.\n",
    "\n",
    "# FUNCTIONS END"
   ]
  },
  {
   "cell_type": "code",
   "execution_count": 4,
   "metadata": {},
   "outputs": [
    {
     "name": "stdout",
     "output_type": "stream",
     "text": [
      "The query data:\n"
     ]
    },
    {
     "data": {
      "text/html": [
       "<pre style=\"white-space:pre;overflow-x:auto;line-height:normal;font-family:Menlo,'DejaVu Sans Mono',consolas,'Courier New',monospace\"><span style=\"color: #808000; text-decoration-color: #808000; font-weight: bold\">/Users/hugo/opt/anaconda3/lib/python3.9/site-packages/google/auth/_default.py:</span><span style=\"color: #808000; text-decoration-color: #808000; font-weight: bold\">78</span><span style=\"color: #808000; text-decoration-color: #808000; font-weight: bold\"> UserWarning</span><span style=\"color: #808000; text-decoration-color: #808000\">: Your application has authenticated using end user credentials from Google Cloud SDK without a quota project. You might receive a </span><span style=\"color: #808000; text-decoration-color: #808000\">\"quota exceeded\"</span><span style=\"color: #808000; text-decoration-color: #808000\"> or </span><span style=\"color: #808000; text-decoration-color: #808000\">\"API not enabled\"</span><span style=\"color: #808000; text-decoration-color: #808000\"> error. See the following page for troubleshooting: </span><span style=\"color: #808000; text-decoration-color: #808000; text-decoration: underline\">https://cloud.google.com/docs/authentication/adc-troubleshooting/user-creds.</span>\n",
       "</pre>\n"
      ],
      "text/plain": [
       "\u001b[1;33m/Users/hugo/opt/anaconda3/lib/python3.9/site-packages/google/auth/\u001b[0m\u001b[1;33m_default.py\u001b[0m\u001b[1;33m:\u001b[0m\u001b[1;33m78\u001b[0m\u001b[1;33m UserWarning\u001b[0m\u001b[33m: Your application has authenticated using end user credentials from Google Cloud SDK without a quota project. You might receive a \u001b[0m\u001b[33m\"quota exceeded\"\u001b[0m\u001b[33m or \u001b[0m\u001b[33m\"API not enabled\"\u001b[0m\u001b[33m error. See the following page for troubleshooting: \u001b[0m\u001b[4;33mhttps://cloud.google.com/docs/authentication/adc-troubleshooting/user-creds.\u001b[0m\n"
      ]
     },
     "metadata": {},
     "output_type": "display_data"
    },
    {
     "data": {
      "text/html": [
       "<pre style=\"white-space:pre;overflow-x:auto;line-height:normal;font-family:Menlo,'DejaVu Sans Mono',consolas,'Courier New',monospace\"><span style=\"color: #808000; text-decoration-color: #808000; font-weight: bold\">/Users/hugo/opt/anaconda3/lib/python3.9/site-packages/google/auth/_default.py:</span><span style=\"color: #808000; text-decoration-color: #808000; font-weight: bold\">78</span><span style=\"color: #808000; text-decoration-color: #808000; font-weight: bold\"> UserWarning</span><span style=\"color: #808000; text-decoration-color: #808000\">: Your application has authenticated using end user credentials from Google Cloud SDK without a quota project. You might receive a </span><span style=\"color: #808000; text-decoration-color: #808000\">\"quota exceeded\"</span><span style=\"color: #808000; text-decoration-color: #808000\"> or </span><span style=\"color: #808000; text-decoration-color: #808000\">\"API not enabled\"</span><span style=\"color: #808000; text-decoration-color: #808000\"> error. See the following page for troubleshooting: </span><span style=\"color: #808000; text-decoration-color: #808000; text-decoration: underline\">https://cloud.google.com/docs/authentication/adc-troubleshooting/user-creds.</span>\n",
       "</pre>\n"
      ],
      "text/plain": [
       "\u001b[1;33m/Users/hugo/opt/anaconda3/lib/python3.9/site-packages/google/auth/\u001b[0m\u001b[1;33m_default.py\u001b[0m\u001b[1;33m:\u001b[0m\u001b[1;33m78\u001b[0m\u001b[1;33m UserWarning\u001b[0m\u001b[33m: Your application has authenticated using end user credentials from Google Cloud SDK without a quota project. You might receive a \u001b[0m\u001b[33m\"quota exceeded\"\u001b[0m\u001b[33m or \u001b[0m\u001b[33m\"API not enabled\"\u001b[0m\u001b[33m error. See the following page for troubleshooting: \u001b[0m\u001b[4;33mhttps://cloud.google.com/docs/authentication/adc-troubleshooting/user-creds.\u001b[0m\n"
      ]
     },
     "metadata": {},
     "output_type": "display_data"
    }
   ],
   "source": [
    "df = get_bigquery_tmdb_df('2023-01', '2023-02')\n",
    "df_rotten = get_rotten_dataframe(df)\n",
    "insert_into_bigquery(df_rotten)"
   ]
  },
  {
   "cell_type": "code",
   "execution_count": 14,
   "metadata": {},
   "outputs": [],
   "source": [
    "# ### UNCOMMENT THE CODE BELOW TO CREATE THE TABLE IN BIGQUERY FOR THE FIRST TIME\n",
    "# # job_config = bigquery.LoadJobConfig(\n",
    "# schema=[\n",
    "#         bigquery.SchemaField(\"tmdb_id\", \"STRING\"),\n",
    "#         bigquery.SchemaField(\"original_title\", \"STRING\"),\n",
    "#         bigquery.SchemaField(\"Box Office\", \"STRING\"),\n",
    "#         bigquery.SchemaField(\"Release Date Theaters\", \"STRING\"),\n",
    "#         bigquery.SchemaField(\"Release Date Streaming\", \"STRING\"),\n",
    "#         bigquery.SchemaField(\"tomattometer_score\", \"STRING\"),\n",
    "#         bigquery.SchemaField(\"audience_score\", \"STRING\"),\n",
    "#         bigquery.SchemaField(\"tomatometer_reviews\", \"STRING\"),\n",
    "#         bigquery.SchemaField(\"audience_reviews\", \"STRING\"),\n",
    "#         bigquery.SchemaField(\"Distributor\", \"STRING\"),\n",
    "#         bigquery.SchemaField(\"Aspect Ratio\", \"STRING\"),\n",
    "#         bigquery.SchemaField(\"Runtime\", \"STRING\"),\n",
    "#         bigquery.SchemaField(\"Writer\", \"STRING\"),\n",
    "#         bigquery.SchemaField(\"Original Language\", \"STRING\"),\n",
    "#         bigquery.SchemaField(\"Rating\", \"STRING\"),\n",
    "#         bigquery.SchemaField(\"Director\", \"STRING\"),\n",
    "#         bigquery.SchemaField(\"Genre\", \"STRING\"),\n",
    "#         bigquery.SchemaField(\"Producer\", \"STRING\"),\n",
    "#         bigquery.SchemaField(\"Sound Mix\", \"STRING\"),\n",
    "#         bigquery.SchemaField(\"tomattometer_reviews\", \"STRING\"),\n",
    "#         bigquery.SchemaField(\"Production Co\", \"STRING\")\n",
    "# ]\n",
    "# # ,\n",
    "# #     write_disposition=\"WRITE_TRUNCATE\",\n",
    "# # )\n",
    "\n",
    "# # Construct a BigQuery client object.\n",
    "# client = bigquery.Client(credentials=credentials)\n",
    "\n",
    "# table_id = \"turingdb.data_warehouse.rotten_tomatoes\"\n",
    "\n",
    "# table = bigquery.Table(table_id, schema=schema)\n",
    "# table = client.create_table(table)  # API request"
   ]
  },
  {
   "cell_type": "code",
   "execution_count": null,
   "metadata": {},
   "outputs": [],
   "source": []
  }
 ],
 "metadata": {
  "kernelspec": {
   "display_name": "base",
   "language": "python",
   "name": "python3"
  },
  "language_info": {
   "codemirror_mode": {
    "name": "ipython",
    "version": 3
   },
   "file_extension": ".py",
   "mimetype": "text/x-python",
   "name": "python",
   "nbconvert_exporter": "python",
   "pygments_lexer": "ipython3",
   "version": "3.9.13"
  },
  "orig_nbformat": 4,
  "vscode": {
   "interpreter": {
    "hash": "a520eee76fb45144dce358d28e2553c46c04a72006c4708fb30a8f5e6598a7c9"
   }
  }
 },
 "nbformat": 4,
 "nbformat_minor": 2
}
